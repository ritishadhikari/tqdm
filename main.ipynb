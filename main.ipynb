{
 "cells": [
  {
   "cell_type": "code",
   "execution_count": 1,
   "metadata": {},
   "outputs": [],
   "source": [
    "from tqdm import tqdm\n",
    "import time"
   ]
  },
  {
   "cell_type": "markdown",
   "metadata": {},
   "source": [
    "### Iterable (mandatory)"
   ]
  },
  {
   "cell_type": "code",
   "execution_count": 3,
   "metadata": {},
   "outputs": [
    {
     "name": "stderr",
     "output_type": "stream",
     "text": [
      "100%|██████████| 9000000/9000000 [00:01<00:00, 4830488.45it/s]\n"
     ]
    }
   ],
   "source": [
    "for i in tqdm(iterable=range(int(9e6))):\n",
    "    pass"
   ]
  },
  {
   "cell_type": "markdown",
   "metadata": {},
   "source": [
    "### Description"
   ]
  },
  {
   "cell_type": "code",
   "execution_count": 13,
   "metadata": {},
   "outputs": [
    {
     "name": "stderr",
     "output_type": "stream",
     "text": [
      "Text Font:   0%|          | 0/9000000 [00:00<?, ?it/s]"
     ]
    },
    {
     "name": "stderr",
     "output_type": "stream",
     "text": [
      "Text Font: 100%|██████████| 9000000/9000000 [00:01<00:00, 4800814.35it/s]\n"
     ]
    }
   ],
   "source": [
    "for i in tqdm(iterable=range(int(9e6)),\n",
    "              desc=\"Text Font\"):\n",
    "    pass"
   ]
  },
  {
   "cell_type": "markdown",
   "metadata": {},
   "source": [
    "### Total"
   ]
  },
  {
   "cell_type": "code",
   "execution_count": 18,
   "metadata": {},
   "outputs": [
    {
     "name": "stderr",
     "output_type": "stream",
     "text": [
      "Text Font: 9000000it [00:01, 4789117.75it/s]     \n"
     ]
    }
   ],
   "source": [
    "for i in tqdm(iterable=range(int(9e6)),\n",
    "              desc=\"Text Font\",\n",
    "              total=10):\n",
    "    pass"
   ]
  },
  {
   "cell_type": "markdown",
   "metadata": {},
   "source": [
    "### Disable"
   ]
  },
  {
   "cell_type": "code",
   "execution_count": 19,
   "metadata": {},
   "outputs": [],
   "source": [
    "for i in tqdm(iterable=range(int(9e6)),\n",
    "              desc=\"Text Font\",\n",
    "              total=10,\n",
    "              disable=True):\n",
    "    pass"
   ]
  },
  {
   "cell_type": "markdown",
   "metadata": {},
   "source": [
    "### ncols"
   ]
  },
  {
   "cell_type": "code",
   "execution_count": 33,
   "metadata": {},
   "outputs": [
    {
     "name": "stderr",
     "output_type": "stream",
     "text": [
      "Text Font: 100%|█████████████████████████████████████| 9000000/9000000 [00:01<00:00, 4601379.34it/s]\n"
     ]
    }
   ],
   "source": [
    "for i in tqdm(iterable=range(int(9e6)),\n",
    "              desc=\"Text Font\",\n",
    "            #   total=10,\n",
    "              disable=False,\n",
    "              ncols=100):\n",
    "    pass"
   ]
  },
  {
   "cell_type": "markdown",
   "metadata": {},
   "source": [
    "#### ascii"
   ]
  },
  {
   "cell_type": "code",
   "execution_count": 39,
   "metadata": {},
   "outputs": [
    {
     "name": "stderr",
     "output_type": "stream",
     "text": [
      "Text Font: 100%|$$$$$$$$$$$$$$$$$$$| 9000000/9000000 [00:01<00:00, 4624160.86it/s]\n"
     ]
    }
   ],
   "source": [
    "for i in tqdm(iterable=range(int(9e6)),\n",
    "              desc=\"Text Font\",\n",
    "            #   total=10,\n",
    "              disable=False,\n",
    "              ncols=100,\n",
    "              ascii=\"123456789$\"\n",
    "              ):\n",
    "    pass"
   ]
  },
  {
   "cell_type": "markdown",
   "metadata": {},
   "source": [
    "#### ticks"
   ]
  },
  {
   "cell_type": "code",
   "execution_count": 43,
   "metadata": {},
   "outputs": [
    {
     "name": "stderr",
     "output_type": "stream",
     "text": [
      "Text Font: 100%|██████████████████████████████████| 9000000/9000000 [00:01<00:00, 4631982.04ticks/s]\n"
     ]
    }
   ],
   "source": [
    "for i in tqdm(iterable=range(int(9e6)),\n",
    "              desc=\"Text Font\",\n",
    "            #   total=10,\n",
    "              disable=False,\n",
    "              ncols=100,\n",
    "            #   ascii=\"123456789$\",\n",
    "              unit=\"ticks\"\n",
    "              ):\n",
    "    pass"
   ]
  },
  {
   "cell_type": "markdown",
   "metadata": {},
   "source": [
    "#### initial"
   ]
  },
  {
   "cell_type": "code",
   "execution_count": 55,
   "metadata": {},
   "outputs": [
    {
     "name": "stderr",
     "output_type": "stream",
     "text": [
      "Text Font: 12000000.0ticks [00:01, 5767314.75ticks/s]                                               \n"
     ]
    }
   ],
   "source": [
    "for i in tqdm(iterable=range(int(9e6)),\n",
    "              desc=\"Text Font\",\n",
    "            #   total=10,\n",
    "              disable=False,\n",
    "              ncols=100,\n",
    "            #   ascii=\"123456789$\",\n",
    "              unit=\"ticks\",\n",
    "              initial=3e6\n",
    "              ):\n",
    "    pass"
   ]
  },
  {
   "cell_type": "code",
   "execution_count": null,
   "metadata": {},
   "outputs": [],
   "source": []
  }
 ],
 "metadata": {
  "kernelspec": {
   "display_name": "oaienv",
   "language": "python",
   "name": "python3"
  },
  "language_info": {
   "codemirror_mode": {
    "name": "ipython",
    "version": 3
   },
   "file_extension": ".py",
   "mimetype": "text/x-python",
   "name": "python",
   "nbconvert_exporter": "python",
   "pygments_lexer": "ipython3",
   "version": "3.11.9"
  }
 },
 "nbformat": 4,
 "nbformat_minor": 2
}
